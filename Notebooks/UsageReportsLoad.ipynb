{
 "cells": [
  {
   "cell_type": "code",
   "execution_count": 1,
   "id": "c2079424-9b50-451d-b9d1-3fa3a97938cc",
   "metadata": {
    "scrolled": true
   },
   "outputs": [
    {
     "name": "stderr",
     "output_type": "stream",
     "text": [
      "/usr/lib/python3/dist-packages/pytz/__init__.py:31: SyntaxWarning: invalid escape sequence '\\s'\n",
      "  match = re.match(\"^#\\s*version\\s*([0-9a-z]*)\\s*$\", line)\n"
     ]
    }
   ],
   "source": [
    "import pandas as pd\n",
    "import numpy as np\n",
    "import json\n",
    "from math import ceil"
   ]
  },
  {
   "cell_type": "code",
   "execution_count": 2,
   "id": "cc725621-0207-47f7-bba8-054918639fa4",
   "metadata": {},
   "outputs": [],
   "source": [
    "f = open(\"usage_stats_manual_takeout_13_12.json\")\n",
    "usage_results = json.load(f)\n",
    "usage_results_objects = []\n",
    "for result in usage_results:\n",
    "    usage_results_objects.append(result[\"_source\"])"
   ]
  },
  {
   "cell_type": "code",
   "execution_count": 3,
   "id": "1ece9452-c098-4530-9df4-320093b3f2fb",
   "metadata": {},
   "outputs": [],
   "source": [
    "def get_documents_data_into_df(\n",
    "    results,\n",
    "    fields,\n",
    ") -> pd.DataFrame:\n",
    "    \"\"\"\n",
    "    Returns pandas dataframe, that contains one datatype object per row with columns specified in\n",
    "    the field parameter.\n",
    "    \"\"\"\n",
    "\n",
    "    def get_field_data(input_doc, field):\n",
    "        for field in field.split(\".\"):\n",
    "            input_doc = input_doc.get(field)\n",
    "        return input_doc\n",
    "\n",
    "    return_df = pd.DataFrame(columns=[field.split(\".\")[-1] for field in fields])\n",
    "    for result in results:\n",
    "        document = result\n",
    "        temp_df = pd.DataFrame(\n",
    "            {field.split(\".\")[-1]: get_field_data(document, field) for field in fields}, index=range(1)\n",
    "        )\n",
    "        return_df = pd.concat([return_df, temp_df]).reset_index(drop=True)\n",
    "\n",
    "    return return_df.fillna(value=np.nan)"
   ]
  },
  {
   "cell_type": "code",
   "execution_count": 4,
   "id": "44ef11a3-26e9-44b6-ab80-18f98c3bdcc2",
   "metadata": {},
   "outputs": [
    {
     "name": "stderr",
     "output_type": "stream",
     "text": [
      "/tmp/ipykernel_25940/1673485834.py:23: FutureWarning: Downcasting object dtype arrays on .fillna, .ffill, .bfill is deprecated and will change in a future version. Call result.infer_objects(copy=False) instead. To opt-in to the future behavior, set `pd.set_option('future.no_silent_downcasting', True)`\n",
      "  return return_df.fillna(value=np.nan)\n"
     ]
    }
   ],
   "source": [
    "fields = [\"timestamp\", \"report_timeframe\", \"usage_statistics_result.active_users\", \n",
    "          \"usage_statistics_result.new_users_registered\", \"usage_statistics_result.total_users_registered\",\n",
    "         \"usage_statistics_result.unique_users_that_logged_event\"]\n",
    "usage_df = get_documents_data_into_df(usage_results_objects, fields)"
   ]
  },
  {
   "cell_type": "code",
   "execution_count": 5,
   "id": "c7dcfb07-2a5c-4a19-9db8-6ab456663a98",
   "metadata": {
    "scrolled": true
   },
   "outputs": [],
   "source": [
    "usage_df[\"day_of_the_week\"] = pd.to_datetime(usage_df[\"timestamp\"]).dt.day_name()\n",
    "usage_df[\"timestamp\"] = pd.to_datetime(usage_df[\"timestamp\"]).dt.date"
   ]
  },
  {
   "cell_type": "code",
   "execution_count": 6,
   "id": "238063c5-390e-47ae-919c-378ddb13f194",
   "metadata": {},
   "outputs": [],
   "source": [
    "df_list = []\n",
    "diary_events_values = []\n",
    "diary_notes_values = []\n",
    "diary_ratings_values = []\n",
    "top3_users_diary_events = []\n",
    "for result in usage_results_objects:\n",
    "    timestamp = result[\"timestamp\"]\n",
    "    document_count_df_dict = result[\"usage_statistics_result\"][\"document_count_df\"]\n",
    "    temp_df = pd.DataFrame(document_count_df_dict)\n",
    "    temp_df = temp_df.set_index(\"DataType\")\n",
    "    df_list.append(temp_df)\n",
    "    diary_events_values.append(temp_df.loc[\"DiaryEvents\"][\"Document_Count\"])\n",
    "    diary_notes_values.append(temp_df.loc[\"DiaryNotes\"][\"Document_Count\"])\n",
    "    diary_ratings_values.append(temp_df.loc[\"DiaryRating\"][\"Document_Count\"])\n",
    "    top3_users_diary_events.append(sum(result[\"usage_statistics_result\"][\"top10_diary_events_users\"][:3]))"
   ]
  },
  {
   "cell_type": "code",
   "execution_count": 7,
   "id": "095293f1-3361-4074-805e-0ea72024358f",
   "metadata": {},
   "outputs": [],
   "source": [
    "usage_df[\"DiaryEvents\"] = pd.Series(diary_events_values)\n",
    "usage_df[\"DiaryNotes\"] = pd.Series(diary_notes_values)\n",
    "usage_df[\"DiaryRating\"] = pd.Series(diary_ratings_values)\n",
    "usage_df[\"Top3UsersDiaryEvents\"] = pd.Series(top3_users_diary_events)\n",
    "usage_df[\"PortionOfEventsByTop3\"] = usage_df[\"Top3UsersDiaryEvents\"] / usage_df[\"DiaryEvents\"] * 100\n",
    "usage_df[\"PortionOfEventsByTop3\"] = usage_df[\"PortionOfEventsByTop3\"].round(2)"
   ]
  },
  {
   "cell_type": "code",
   "execution_count": 8,
   "id": "8ed3fa8a-7035-4358-bda9-32fe9bab6c72",
   "metadata": {},
   "outputs": [],
   "source": [
    "usage_df = usage_df[['timestamp', 'day_of_the_week', 'report_timeframe', 'active_users', 'new_users_registered',\n",
    "       'total_users_registered', 'unique_users_that_logged_event',\n",
    "       'DiaryEvents', 'DiaryNotes', 'DiaryRating',\n",
    "       'Top3UsersDiaryEvents', 'PortionOfEventsByTop3']]"
   ]
  },
  {
   "cell_type": "code",
   "execution_count": 9,
   "id": "aaed80ef-6e7f-43d6-9e49-9bfc758fd258",
   "metadata": {},
   "outputs": [],
   "source": [
    "usage_df[\"active_without_new\"] = usage_df[\"active_users\"] - usage_df[\"new_users_registered\"]"
   ]
  },
  {
   "cell_type": "code",
   "execution_count": 10,
   "id": "ac9f573b-b60e-4023-8e49-37adf678e4a1",
   "metadata": {
    "scrolled": true
   },
   "outputs": [
    {
     "data": {
      "text/html": [
       "<div>\n",
       "<style scoped>\n",
       "    .dataframe tbody tr th:only-of-type {\n",
       "        vertical-align: middle;\n",
       "    }\n",
       "\n",
       "    .dataframe tbody tr th {\n",
       "        vertical-align: top;\n",
       "    }\n",
       "\n",
       "    .dataframe thead th {\n",
       "        text-align: right;\n",
       "    }\n",
       "</style>\n",
       "<table border=\"1\" class=\"dataframe\">\n",
       "  <thead>\n",
       "    <tr style=\"text-align: right;\">\n",
       "      <th></th>\n",
       "      <th>timestamp</th>\n",
       "      <th>day_of_the_week</th>\n",
       "      <th>report_timeframe</th>\n",
       "      <th>active_users</th>\n",
       "      <th>new_users_registered</th>\n",
       "      <th>total_users_registered</th>\n",
       "      <th>unique_users_that_logged_event</th>\n",
       "      <th>DiaryEvents</th>\n",
       "      <th>DiaryNotes</th>\n",
       "      <th>DiaryRating</th>\n",
       "      <th>Top3UsersDiaryEvents</th>\n",
       "      <th>PortionOfEventsByTop3</th>\n",
       "      <th>active_without_new</th>\n",
       "    </tr>\n",
       "  </thead>\n",
       "  <tbody>\n",
       "    <tr>\n",
       "      <th>0</th>\n",
       "      <td>2024-02-22</td>\n",
       "      <td>Thursday</td>\n",
       "      <td>D</td>\n",
       "      <td>76</td>\n",
       "      <td>17</td>\n",
       "      <td>15664</td>\n",
       "      <td>13</td>\n",
       "      <td>43</td>\n",
       "      <td>20</td>\n",
       "      <td>18</td>\n",
       "      <td>25</td>\n",
       "      <td>58.14</td>\n",
       "      <td>59</td>\n",
       "    </tr>\n",
       "    <tr>\n",
       "      <th>1</th>\n",
       "      <td>2024-02-21</td>\n",
       "      <td>Wednesday</td>\n",
       "      <td>D</td>\n",
       "      <td>79</td>\n",
       "      <td>25</td>\n",
       "      <td>15647</td>\n",
       "      <td>14</td>\n",
       "      <td>55</td>\n",
       "      <td>26</td>\n",
       "      <td>28</td>\n",
       "      <td>29</td>\n",
       "      <td>52.73</td>\n",
       "      <td>54</td>\n",
       "    </tr>\n",
       "    <tr>\n",
       "      <th>2</th>\n",
       "      <td>2024-02-20</td>\n",
       "      <td>Tuesday</td>\n",
       "      <td>D</td>\n",
       "      <td>95</td>\n",
       "      <td>24</td>\n",
       "      <td>15622</td>\n",
       "      <td>16</td>\n",
       "      <td>62</td>\n",
       "      <td>19</td>\n",
       "      <td>23</td>\n",
       "      <td>30</td>\n",
       "      <td>48.39</td>\n",
       "      <td>71</td>\n",
       "    </tr>\n",
       "    <tr>\n",
       "      <th>3</th>\n",
       "      <td>2024-02-19</td>\n",
       "      <td>Monday</td>\n",
       "      <td>D</td>\n",
       "      <td>75</td>\n",
       "      <td>23</td>\n",
       "      <td>15598</td>\n",
       "      <td>10</td>\n",
       "      <td>34</td>\n",
       "      <td>26</td>\n",
       "      <td>25</td>\n",
       "      <td>20</td>\n",
       "      <td>58.82</td>\n",
       "      <td>52</td>\n",
       "    </tr>\n",
       "    <tr>\n",
       "      <th>5</th>\n",
       "      <td>2024-02-18</td>\n",
       "      <td>Sunday</td>\n",
       "      <td>D</td>\n",
       "      <td>75</td>\n",
       "      <td>17</td>\n",
       "      <td>15575</td>\n",
       "      <td>14</td>\n",
       "      <td>57</td>\n",
       "      <td>19</td>\n",
       "      <td>17</td>\n",
       "      <td>28</td>\n",
       "      <td>49.12</td>\n",
       "      <td>58</td>\n",
       "    </tr>\n",
       "    <tr>\n",
       "      <th>...</th>\n",
       "      <td>...</td>\n",
       "      <td>...</td>\n",
       "      <td>...</td>\n",
       "      <td>...</td>\n",
       "      <td>...</td>\n",
       "      <td>...</td>\n",
       "      <td>...</td>\n",
       "      <td>...</td>\n",
       "      <td>...</td>\n",
       "      <td>...</td>\n",
       "      <td>...</td>\n",
       "      <td>...</td>\n",
       "      <td>...</td>\n",
       "    </tr>\n",
       "    <tr>\n",
       "      <th>169</th>\n",
       "      <td>2023-09-16</td>\n",
       "      <td>Saturday</td>\n",
       "      <td>D</td>\n",
       "      <td>34</td>\n",
       "      <td>9</td>\n",
       "      <td>3897</td>\n",
       "      <td>18</td>\n",
       "      <td>54</td>\n",
       "      <td>12</td>\n",
       "      <td>16</td>\n",
       "      <td>33</td>\n",
       "      <td>61.11</td>\n",
       "      <td>25</td>\n",
       "    </tr>\n",
       "    <tr>\n",
       "      <th>170</th>\n",
       "      <td>2023-09-15</td>\n",
       "      <td>Friday</td>\n",
       "      <td>D</td>\n",
       "      <td>35</td>\n",
       "      <td>10</td>\n",
       "      <td>3888</td>\n",
       "      <td>17</td>\n",
       "      <td>78</td>\n",
       "      <td>15</td>\n",
       "      <td>17</td>\n",
       "      <td>44</td>\n",
       "      <td>56.41</td>\n",
       "      <td>25</td>\n",
       "    </tr>\n",
       "    <tr>\n",
       "      <th>171</th>\n",
       "      <td>2023-09-14</td>\n",
       "      <td>Thursday</td>\n",
       "      <td>D</td>\n",
       "      <td>36</td>\n",
       "      <td>6</td>\n",
       "      <td>3878</td>\n",
       "      <td>18</td>\n",
       "      <td>86</td>\n",
       "      <td>8</td>\n",
       "      <td>12</td>\n",
       "      <td>52</td>\n",
       "      <td>60.47</td>\n",
       "      <td>30</td>\n",
       "    </tr>\n",
       "    <tr>\n",
       "      <th>172</th>\n",
       "      <td>2023-09-13</td>\n",
       "      <td>Wednesday</td>\n",
       "      <td>D</td>\n",
       "      <td>29</td>\n",
       "      <td>6</td>\n",
       "      <td>3873</td>\n",
       "      <td>15</td>\n",
       "      <td>60</td>\n",
       "      <td>8</td>\n",
       "      <td>12</td>\n",
       "      <td>33</td>\n",
       "      <td>55.00</td>\n",
       "      <td>23</td>\n",
       "    </tr>\n",
       "    <tr>\n",
       "      <th>173</th>\n",
       "      <td>2023-09-12</td>\n",
       "      <td>Tuesday</td>\n",
       "      <td>D</td>\n",
       "      <td>34</td>\n",
       "      <td>5</td>\n",
       "      <td>3867</td>\n",
       "      <td>18</td>\n",
       "      <td>82</td>\n",
       "      <td>8</td>\n",
       "      <td>13</td>\n",
       "      <td>50</td>\n",
       "      <td>60.98</td>\n",
       "      <td>29</td>\n",
       "    </tr>\n",
       "  </tbody>\n",
       "</table>\n",
       "<p>149 rows × 13 columns</p>\n",
       "</div>"
      ],
      "text/plain": [
       "      timestamp day_of_the_week report_timeframe  active_users  \\\n",
       "0    2024-02-22        Thursday                D            76   \n",
       "1    2024-02-21       Wednesday                D            79   \n",
       "2    2024-02-20         Tuesday                D            95   \n",
       "3    2024-02-19          Monday                D            75   \n",
       "5    2024-02-18          Sunday                D            75   \n",
       "..          ...             ...              ...           ...   \n",
       "169  2023-09-16        Saturday                D            34   \n",
       "170  2023-09-15          Friday                D            35   \n",
       "171  2023-09-14        Thursday                D            36   \n",
       "172  2023-09-13       Wednesday                D            29   \n",
       "173  2023-09-12         Tuesday                D            34   \n",
       "\n",
       "     new_users_registered  total_users_registered  \\\n",
       "0                      17                   15664   \n",
       "1                      25                   15647   \n",
       "2                      24                   15622   \n",
       "3                      23                   15598   \n",
       "5                      17                   15575   \n",
       "..                    ...                     ...   \n",
       "169                     9                    3897   \n",
       "170                    10                    3888   \n",
       "171                     6                    3878   \n",
       "172                     6                    3873   \n",
       "173                     5                    3867   \n",
       "\n",
       "     unique_users_that_logged_event  DiaryEvents  DiaryNotes  DiaryRating  \\\n",
       "0                                13           43          20           18   \n",
       "1                                14           55          26           28   \n",
       "2                                16           62          19           23   \n",
       "3                                10           34          26           25   \n",
       "5                                14           57          19           17   \n",
       "..                              ...          ...         ...          ...   \n",
       "169                              18           54          12           16   \n",
       "170                              17           78          15           17   \n",
       "171                              18           86           8           12   \n",
       "172                              15           60           8           12   \n",
       "173                              18           82           8           13   \n",
       "\n",
       "     Top3UsersDiaryEvents  PortionOfEventsByTop3  active_without_new  \n",
       "0                      25                  58.14                  59  \n",
       "1                      29                  52.73                  54  \n",
       "2                      30                  48.39                  71  \n",
       "3                      20                  58.82                  52  \n",
       "5                      28                  49.12                  58  \n",
       "..                    ...                    ...                 ...  \n",
       "169                    33                  61.11                  25  \n",
       "170                    44                  56.41                  25  \n",
       "171                    52                  60.47                  30  \n",
       "172                    33                  55.00                  23  \n",
       "173                    50                  60.98                  29  \n",
       "\n",
       "[149 rows x 13 columns]"
      ]
     },
     "execution_count": 10,
     "metadata": {},
     "output_type": "execute_result"
    }
   ],
   "source": [
    "usage_df[usage_df[\"report_timeframe\"] == \"D\"]"
   ]
  },
  {
   "cell_type": "code",
   "execution_count": 11,
   "id": "bb9252fe-d9fb-43a5-a37a-9c52030f7973",
   "metadata": {},
   "outputs": [],
   "source": [
    "usage_df[usage_df[\"report_timeframe\"] == \"D\"].to_csv(\"daily.csv\")"
   ]
  },
  {
   "cell_type": "code",
   "execution_count": 12,
   "id": "b6d986c9-c8ec-47f2-ba46-821e671ab9ad",
   "metadata": {},
   "outputs": [],
   "source": [
    "usage_df.to_csv(\"all_reports.csv\")"
   ]
  },
  {
   "cell_type": "code",
   "execution_count": 13,
   "id": "d9a976cc-83f7-4421-8813-5216602767c0",
   "metadata": {},
   "outputs": [
    {
     "ename": "ImportError",
     "evalue": "cannot import name '_imaging' from 'PIL' (/usr/lib/python3/dist-packages/PIL/__init__.py)",
     "output_type": "error",
     "traceback": [
      "\u001b[0;31m---------------------------------------------------------------------------\u001b[0m",
      "\u001b[0;31mImportError\u001b[0m                               Traceback (most recent call last)",
      "Cell \u001b[0;32mIn[13], line 1\u001b[0m\n\u001b[0;32m----> 1\u001b[0m \u001b[38;5;28;01mimport\u001b[39;00m \u001b[38;5;21;01mmatplotlib\u001b[39;00m\u001b[38;5;21;01m.\u001b[39;00m\u001b[38;5;21;01mpyplot\u001b[39;00m \u001b[38;5;28;01mas\u001b[39;00m \u001b[38;5;21;01mplt\u001b[39;00m\n",
      "File \u001b[0;32m~/.local/lib/python3.12/site-packages/matplotlib/__init__.py:161\u001b[0m\n\u001b[1;32m    157\u001b[0m \u001b[38;5;28;01mfrom\u001b[39;00m \u001b[38;5;21;01mpackaging\u001b[39;00m\u001b[38;5;21;01m.\u001b[39;00m\u001b[38;5;21;01mversion\u001b[39;00m \u001b[38;5;28;01mimport\u001b[39;00m parse \u001b[38;5;28;01mas\u001b[39;00m parse_version\n\u001b[1;32m    159\u001b[0m \u001b[38;5;66;03m# cbook must import matplotlib only within function\u001b[39;00m\n\u001b[1;32m    160\u001b[0m \u001b[38;5;66;03m# definitions, so it is safe to import from it here.\u001b[39;00m\n\u001b[0;32m--> 161\u001b[0m \u001b[38;5;28;01mfrom\u001b[39;00m \u001b[38;5;21;01m.\u001b[39;00m \u001b[38;5;28;01mimport\u001b[39;00m _api, _version, cbook, _docstring, rcsetup\n\u001b[1;32m    162\u001b[0m \u001b[38;5;28;01mfrom\u001b[39;00m \u001b[38;5;21;01mmatplotlib\u001b[39;00m\u001b[38;5;21;01m.\u001b[39;00m\u001b[38;5;21;01mcbook\u001b[39;00m \u001b[38;5;28;01mimport\u001b[39;00m sanitize_sequence\n\u001b[1;32m    163\u001b[0m \u001b[38;5;28;01mfrom\u001b[39;00m \u001b[38;5;21;01mmatplotlib\u001b[39;00m\u001b[38;5;21;01m.\u001b[39;00m\u001b[38;5;21;01m_api\u001b[39;00m \u001b[38;5;28;01mimport\u001b[39;00m MatplotlibDeprecationWarning\n",
      "File \u001b[0;32m~/.local/lib/python3.12/site-packages/matplotlib/rcsetup.py:27\u001b[0m\n\u001b[1;32m     25\u001b[0m \u001b[38;5;28;01mfrom\u001b[39;00m \u001b[38;5;21;01mmatplotlib\u001b[39;00m \u001b[38;5;28;01mimport\u001b[39;00m _api, cbook\n\u001b[1;32m     26\u001b[0m \u001b[38;5;28;01mfrom\u001b[39;00m \u001b[38;5;21;01mmatplotlib\u001b[39;00m\u001b[38;5;21;01m.\u001b[39;00m\u001b[38;5;21;01mcbook\u001b[39;00m \u001b[38;5;28;01mimport\u001b[39;00m ls_mapper\n\u001b[0;32m---> 27\u001b[0m \u001b[38;5;28;01mfrom\u001b[39;00m \u001b[38;5;21;01mmatplotlib\u001b[39;00m\u001b[38;5;21;01m.\u001b[39;00m\u001b[38;5;21;01mcolors\u001b[39;00m \u001b[38;5;28;01mimport\u001b[39;00m Colormap, is_color_like\n\u001b[1;32m     28\u001b[0m \u001b[38;5;28;01mfrom\u001b[39;00m \u001b[38;5;21;01mmatplotlib\u001b[39;00m\u001b[38;5;21;01m.\u001b[39;00m\u001b[38;5;21;01m_fontconfig_pattern\u001b[39;00m \u001b[38;5;28;01mimport\u001b[39;00m parse_fontconfig_pattern\n\u001b[1;32m     29\u001b[0m \u001b[38;5;28;01mfrom\u001b[39;00m \u001b[38;5;21;01mmatplotlib\u001b[39;00m\u001b[38;5;21;01m.\u001b[39;00m\u001b[38;5;21;01m_enums\u001b[39;00m \u001b[38;5;28;01mimport\u001b[39;00m JoinStyle, CapStyle\n",
      "File \u001b[0;32m~/.local/lib/python3.12/site-packages/matplotlib/colors.py:52\u001b[0m\n\u001b[1;32m     49\u001b[0m \u001b[38;5;28;01mfrom\u001b[39;00m \u001b[38;5;21;01mnumbers\u001b[39;00m \u001b[38;5;28;01mimport\u001b[39;00m Real\n\u001b[1;32m     50\u001b[0m \u001b[38;5;28;01mimport\u001b[39;00m \u001b[38;5;21;01mre\u001b[39;00m\n\u001b[0;32m---> 52\u001b[0m \u001b[38;5;28;01mfrom\u001b[39;00m \u001b[38;5;21;01mPIL\u001b[39;00m \u001b[38;5;28;01mimport\u001b[39;00m Image\n\u001b[1;32m     53\u001b[0m \u001b[38;5;28;01mfrom\u001b[39;00m \u001b[38;5;21;01mPIL\u001b[39;00m\u001b[38;5;21;01m.\u001b[39;00m\u001b[38;5;21;01mPngImagePlugin\u001b[39;00m \u001b[38;5;28;01mimport\u001b[39;00m PngInfo\n\u001b[1;32m     55\u001b[0m \u001b[38;5;28;01mimport\u001b[39;00m \u001b[38;5;21;01mmatplotlib\u001b[39;00m \u001b[38;5;28;01mas\u001b[39;00m \u001b[38;5;21;01mmpl\u001b[39;00m\n",
      "File \u001b[0;32m/usr/lib/python3/dist-packages/PIL/Image.py:89\u001b[0m\n\u001b[1;32m     80\u001b[0m MAX_IMAGE_PIXELS \u001b[38;5;241m=\u001b[39m \u001b[38;5;28mint\u001b[39m(\u001b[38;5;241m1024\u001b[39m \u001b[38;5;241m*\u001b[39m \u001b[38;5;241m1024\u001b[39m \u001b[38;5;241m*\u001b[39m \u001b[38;5;241m1024\u001b[39m \u001b[38;5;241m/\u001b[39m\u001b[38;5;241m/\u001b[39m \u001b[38;5;241m4\u001b[39m \u001b[38;5;241m/\u001b[39m\u001b[38;5;241m/\u001b[39m \u001b[38;5;241m3\u001b[39m)\n\u001b[1;32m     83\u001b[0m \u001b[38;5;28;01mtry\u001b[39;00m:\n\u001b[1;32m     84\u001b[0m     \u001b[38;5;66;03m# If the _imaging C module is not present, Pillow will not load.\u001b[39;00m\n\u001b[1;32m     85\u001b[0m     \u001b[38;5;66;03m# Note that other modules should not refer to _imaging directly;\u001b[39;00m\n\u001b[1;32m     86\u001b[0m     \u001b[38;5;66;03m# import Image and use the Image.core variable instead.\u001b[39;00m\n\u001b[1;32m     87\u001b[0m     \u001b[38;5;66;03m# Also note that Image.core is not a publicly documented interface,\u001b[39;00m\n\u001b[1;32m     88\u001b[0m     \u001b[38;5;66;03m# and should be considered private and subject to change.\u001b[39;00m\n\u001b[0;32m---> 89\u001b[0m     \u001b[38;5;28;01mfrom\u001b[39;00m \u001b[38;5;21;01m.\u001b[39;00m \u001b[38;5;28;01mimport\u001b[39;00m _imaging \u001b[38;5;28;01mas\u001b[39;00m core\n\u001b[1;32m     91\u001b[0m     \u001b[38;5;28;01mif\u001b[39;00m __version__ \u001b[38;5;241m!=\u001b[39m \u001b[38;5;28mgetattr\u001b[39m(core, \u001b[38;5;124m\"\u001b[39m\u001b[38;5;124mPILLOW_VERSION\u001b[39m\u001b[38;5;124m\"\u001b[39m, \u001b[38;5;28;01mNone\u001b[39;00m):\n\u001b[1;32m     92\u001b[0m         \u001b[38;5;28;01mraise\u001b[39;00m \u001b[38;5;167;01mImportError\u001b[39;00m(\n\u001b[1;32m     93\u001b[0m             \u001b[38;5;124m\"\u001b[39m\u001b[38;5;124mThe _imaging extension was built for another version of Pillow or PIL:\u001b[39m\u001b[38;5;130;01m\\n\u001b[39;00m\u001b[38;5;124m\"\u001b[39m\n\u001b[1;32m     94\u001b[0m             \u001b[38;5;124mf\u001b[39m\u001b[38;5;124m\"\u001b[39m\u001b[38;5;124mCore version: \u001b[39m\u001b[38;5;132;01m{\u001b[39;00m\u001b[38;5;28mgetattr\u001b[39m(core, \u001b[38;5;124m'\u001b[39m\u001b[38;5;124mPILLOW_VERSION\u001b[39m\u001b[38;5;124m'\u001b[39m, \u001b[38;5;28;01mNone\u001b[39;00m)\u001b[38;5;132;01m}\u001b[39;00m\u001b[38;5;130;01m\\n\u001b[39;00m\u001b[38;5;124m\"\u001b[39m\n\u001b[1;32m     95\u001b[0m             \u001b[38;5;124mf\u001b[39m\u001b[38;5;124m\"\u001b[39m\u001b[38;5;124mPillow version: \u001b[39m\u001b[38;5;132;01m{\u001b[39;00m__version__\u001b[38;5;132;01m}\u001b[39;00m\u001b[38;5;124m\"\u001b[39m\n\u001b[1;32m     96\u001b[0m         )\n",
      "\u001b[0;31mImportError\u001b[0m: cannot import name '_imaging' from 'PIL' (/usr/lib/python3/dist-packages/PIL/__init__.py)"
     ]
    }
   ],
   "source": [
    "import matplotlib.pyplot as plt"
   ]
  },
  {
   "cell_type": "code",
   "execution_count": 14,
   "id": "088284bd-3d92-4fdc-b296-d686b226001f",
   "metadata": {},
   "outputs": [
    {
     "ename": "ImportError",
     "evalue": "matplotlib is required for plotting when the default backend \"matplotlib\" is selected.",
     "output_type": "error",
     "traceback": [
      "\u001b[0;31m---------------------------------------------------------------------------\u001b[0m",
      "\u001b[0;31mImportError\u001b[0m                               Traceback (most recent call last)",
      "Cell \u001b[0;32mIn[14], line 1\u001b[0m\n\u001b[0;32m----> 1\u001b[0m \u001b[43musage_df\u001b[49m\u001b[38;5;241;43m.\u001b[39;49m\u001b[43mplot\u001b[49m\u001b[43m(\u001b[49m\u001b[43mx\u001b[49m\u001b[38;5;241;43m=\u001b[39;49m\u001b[38;5;124;43m'\u001b[39;49m\u001b[38;5;124;43mtimestamp\u001b[39;49m\u001b[38;5;124;43m'\u001b[39;49m\u001b[43m,\u001b[49m\u001b[43m \u001b[49m\u001b[43my\u001b[49m\u001b[38;5;241;43m=\u001b[39;49m\u001b[43m[\u001b[49m\u001b[38;5;124;43m\"\u001b[39;49m\u001b[38;5;124;43mactive_without_new\u001b[39;49m\u001b[38;5;124;43m\"\u001b[39;49m\u001b[43m,\u001b[49m\u001b[43m \u001b[49m\u001b[38;5;124;43m\"\u001b[39;49m\u001b[38;5;124;43mtotal_users_registered\u001b[39;49m\u001b[38;5;124;43m\"\u001b[39;49m\u001b[43m]\u001b[49m\u001b[43m,\u001b[49m\u001b[43m  \u001b[49m\u001b[43mkind\u001b[49m\u001b[38;5;241;43m=\u001b[39;49m\u001b[38;5;124;43m'\u001b[39;49m\u001b[38;5;124;43mline\u001b[39;49m\u001b[38;5;124;43m'\u001b[39;49m\u001b[43m)\u001b[49m\n",
      "File \u001b[0;32m~/.local/lib/python3.12/site-packages/pandas/plotting/_core.py:947\u001b[0m, in \u001b[0;36mPlotAccessor.__call__\u001b[0;34m(self, *args, **kwargs)\u001b[0m\n\u001b[1;32m    946\u001b[0m \u001b[38;5;28;01mdef\u001b[39;00m \u001b[38;5;21m__call__\u001b[39m(\u001b[38;5;28mself\u001b[39m, \u001b[38;5;241m*\u001b[39margs, \u001b[38;5;241m*\u001b[39m\u001b[38;5;241m*\u001b[39mkwargs):\n\u001b[0;32m--> 947\u001b[0m     plot_backend \u001b[38;5;241m=\u001b[39m \u001b[43m_get_plot_backend\u001b[49m\u001b[43m(\u001b[49m\u001b[43mkwargs\u001b[49m\u001b[38;5;241;43m.\u001b[39;49m\u001b[43mpop\u001b[49m\u001b[43m(\u001b[49m\u001b[38;5;124;43m\"\u001b[39;49m\u001b[38;5;124;43mbackend\u001b[39;49m\u001b[38;5;124;43m\"\u001b[39;49m\u001b[43m,\u001b[49m\u001b[43m \u001b[49m\u001b[38;5;28;43;01mNone\u001b[39;49;00m\u001b[43m)\u001b[49m\u001b[43m)\u001b[49m\n\u001b[1;32m    949\u001b[0m     x, y, kind, kwargs \u001b[38;5;241m=\u001b[39m \u001b[38;5;28mself\u001b[39m\u001b[38;5;241m.\u001b[39m_get_call_args(\n\u001b[1;32m    950\u001b[0m         plot_backend\u001b[38;5;241m.\u001b[39m\u001b[38;5;18m__name__\u001b[39m, \u001b[38;5;28mself\u001b[39m\u001b[38;5;241m.\u001b[39m_parent, args, kwargs\n\u001b[1;32m    951\u001b[0m     )\n\u001b[1;32m    953\u001b[0m     kind \u001b[38;5;241m=\u001b[39m \u001b[38;5;28mself\u001b[39m\u001b[38;5;241m.\u001b[39m_kind_aliases\u001b[38;5;241m.\u001b[39mget(kind, kind)\n",
      "File \u001b[0;32m~/.local/lib/python3.12/site-packages/pandas/plotting/_core.py:1944\u001b[0m, in \u001b[0;36m_get_plot_backend\u001b[0;34m(backend)\u001b[0m\n\u001b[1;32m   1941\u001b[0m \u001b[38;5;28;01mif\u001b[39;00m backend_str \u001b[38;5;129;01min\u001b[39;00m _backends:\n\u001b[1;32m   1942\u001b[0m     \u001b[38;5;28;01mreturn\u001b[39;00m _backends[backend_str]\n\u001b[0;32m-> 1944\u001b[0m module \u001b[38;5;241m=\u001b[39m \u001b[43m_load_backend\u001b[49m\u001b[43m(\u001b[49m\u001b[43mbackend_str\u001b[49m\u001b[43m)\u001b[49m\n\u001b[1;32m   1945\u001b[0m _backends[backend_str] \u001b[38;5;241m=\u001b[39m module\n\u001b[1;32m   1946\u001b[0m \u001b[38;5;28;01mreturn\u001b[39;00m module\n",
      "File \u001b[0;32m~/.local/lib/python3.12/site-packages/pandas/plotting/_core.py:1874\u001b[0m, in \u001b[0;36m_load_backend\u001b[0;34m(backend)\u001b[0m\n\u001b[1;32m   1872\u001b[0m         module \u001b[38;5;241m=\u001b[39m importlib\u001b[38;5;241m.\u001b[39mimport_module(\u001b[38;5;124m\"\u001b[39m\u001b[38;5;124mpandas.plotting._matplotlib\u001b[39m\u001b[38;5;124m\"\u001b[39m)\n\u001b[1;32m   1873\u001b[0m     \u001b[38;5;28;01mexcept\u001b[39;00m \u001b[38;5;167;01mImportError\u001b[39;00m:\n\u001b[0;32m-> 1874\u001b[0m         \u001b[38;5;28;01mraise\u001b[39;00m \u001b[38;5;167;01mImportError\u001b[39;00m(\n\u001b[1;32m   1875\u001b[0m             \u001b[38;5;124m\"\u001b[39m\u001b[38;5;124mmatplotlib is required for plotting when the \u001b[39m\u001b[38;5;124m\"\u001b[39m\n\u001b[1;32m   1876\u001b[0m             \u001b[38;5;124m'\u001b[39m\u001b[38;5;124mdefault backend \u001b[39m\u001b[38;5;124m\"\u001b[39m\u001b[38;5;124mmatplotlib\u001b[39m\u001b[38;5;124m\"\u001b[39m\u001b[38;5;124m is selected.\u001b[39m\u001b[38;5;124m'\u001b[39m\n\u001b[1;32m   1877\u001b[0m         ) \u001b[38;5;28;01mfrom\u001b[39;00m \u001b[38;5;28mNone\u001b[39m\n\u001b[1;32m   1878\u001b[0m     \u001b[38;5;28;01mreturn\u001b[39;00m module\n\u001b[1;32m   1880\u001b[0m found_backend \u001b[38;5;241m=\u001b[39m \u001b[38;5;28;01mFalse\u001b[39;00m\n",
      "\u001b[0;31mImportError\u001b[0m: matplotlib is required for plotting when the default backend \"matplotlib\" is selected."
     ]
    }
   ],
   "source": [
    "usage_df.plot(x='timestamp', y=[\"active_without_new\", \"total_users_registered\"],  kind='line')"
   ]
  },
  {
   "cell_type": "code",
   "execution_count": 14,
   "id": "11270c76-6e2c-47ba-8c51-78e5b91f446c",
   "metadata": {},
   "outputs": [
    {
     "name": "stdout",
     "output_type": "stream",
     "text": [
      "Defaulting to user installation because normal site-packages is not writeable\n",
      "\u001b[31mERROR: Could not find a version that satisfies the requirement PIL (from versions: none)\u001b[0m\u001b[31m\n",
      "\u001b[0m\u001b[31mERROR: No matching distribution found for PIL\u001b[0m\u001b[31m\n",
      "\u001b[0mNote: you may need to restart the kernel to use updated packages.\n"
     ]
    }
   ],
   "source": [
    "pip install PIL"
   ]
  },
  {
   "cell_type": "code",
   "execution_count": null,
   "id": "a47b4dc2-8b15-4ec5-abc1-33b6b95f6a5f",
   "metadata": {},
   "outputs": [],
   "source": []
  }
 ],
 "metadata": {
  "kernelspec": {
   "display_name": "Python 3 (ipykernel)",
   "language": "python",
   "name": "python3"
  },
  "language_info": {
   "codemirror_mode": {
    "name": "ipython",
    "version": 3
   },
   "file_extension": ".py",
   "mimetype": "text/x-python",
   "name": "python",
   "nbconvert_exporter": "python",
   "pygments_lexer": "ipython3",
   "version": "3.12.1"
  }
 },
 "nbformat": 4,
 "nbformat_minor": 5
}
